{
  "nbformat": 4,
  "nbformat_minor": 0,
  "metadata": {
    "colab": {
      "provenance": []
    },
    "kernelspec": {
      "name": "python3",
      "display_name": "Python 3"
    },
    "language_info": {
      "name": "python"
    }
  },
  "cells": [
    {
      "cell_type": "markdown",
      "source": [
        "**Import Libraries and Data**"
      ],
      "metadata": {
        "id": "kN75yO6nHK-z"
      }
    },
    {
      "cell_type": "code",
      "source": [
        "import pandas as pd"
      ],
      "metadata": {
        "id": "WPaI5SMfHYHh"
      },
      "execution_count": 95,
      "outputs": []
    },
    {
      "cell_type": "code",
      "execution_count": 96,
      "metadata": {
        "colab": {
          "base_uri": "https://localhost:8080/",
          "height": 73
        },
        "id": "Ko1Y4EBqG3QH",
        "outputId": "a3330a07-1fb1-4583-c51a-06a6e070792d"
      },
      "outputs": [
        {
          "output_type": "display_data",
          "data": {
            "text/plain": [
              "<IPython.core.display.HTML object>"
            ],
            "text/html": [
              "\n",
              "     <input type=\"file\" id=\"files-44c1fb83-4e8d-4b34-a036-76d4fef1cf4e\" name=\"files[]\" multiple disabled\n",
              "        style=\"border:none\" />\n",
              "     <output id=\"result-44c1fb83-4e8d-4b34-a036-76d4fef1cf4e\">\n",
              "      Upload widget is only available when the cell has been executed in the\n",
              "      current browser session. Please rerun this cell to enable.\n",
              "      </output>\n",
              "      <script>// Copyright 2017 Google LLC\n",
              "//\n",
              "// Licensed under the Apache License, Version 2.0 (the \"License\");\n",
              "// you may not use this file except in compliance with the License.\n",
              "// You may obtain a copy of the License at\n",
              "//\n",
              "//      http://www.apache.org/licenses/LICENSE-2.0\n",
              "//\n",
              "// Unless required by applicable law or agreed to in writing, software\n",
              "// distributed under the License is distributed on an \"AS IS\" BASIS,\n",
              "// WITHOUT WARRANTIES OR CONDITIONS OF ANY KIND, either express or implied.\n",
              "// See the License for the specific language governing permissions and\n",
              "// limitations under the License.\n",
              "\n",
              "/**\n",
              " * @fileoverview Helpers for google.colab Python module.\n",
              " */\n",
              "(function(scope) {\n",
              "function span(text, styleAttributes = {}) {\n",
              "  const element = document.createElement('span');\n",
              "  element.textContent = text;\n",
              "  for (const key of Object.keys(styleAttributes)) {\n",
              "    element.style[key] = styleAttributes[key];\n",
              "  }\n",
              "  return element;\n",
              "}\n",
              "\n",
              "// Max number of bytes which will be uploaded at a time.\n",
              "const MAX_PAYLOAD_SIZE = 100 * 1024;\n",
              "\n",
              "function _uploadFiles(inputId, outputId) {\n",
              "  const steps = uploadFilesStep(inputId, outputId);\n",
              "  const outputElement = document.getElementById(outputId);\n",
              "  // Cache steps on the outputElement to make it available for the next call\n",
              "  // to uploadFilesContinue from Python.\n",
              "  outputElement.steps = steps;\n",
              "\n",
              "  return _uploadFilesContinue(outputId);\n",
              "}\n",
              "\n",
              "// This is roughly an async generator (not supported in the browser yet),\n",
              "// where there are multiple asynchronous steps and the Python side is going\n",
              "// to poll for completion of each step.\n",
              "// This uses a Promise to block the python side on completion of each step,\n",
              "// then passes the result of the previous step as the input to the next step.\n",
              "function _uploadFilesContinue(outputId) {\n",
              "  const outputElement = document.getElementById(outputId);\n",
              "  const steps = outputElement.steps;\n",
              "\n",
              "  const next = steps.next(outputElement.lastPromiseValue);\n",
              "  return Promise.resolve(next.value.promise).then((value) => {\n",
              "    // Cache the last promise value to make it available to the next\n",
              "    // step of the generator.\n",
              "    outputElement.lastPromiseValue = value;\n",
              "    return next.value.response;\n",
              "  });\n",
              "}\n",
              "\n",
              "/**\n",
              " * Generator function which is called between each async step of the upload\n",
              " * process.\n",
              " * @param {string} inputId Element ID of the input file picker element.\n",
              " * @param {string} outputId Element ID of the output display.\n",
              " * @return {!Iterable<!Object>} Iterable of next steps.\n",
              " */\n",
              "function* uploadFilesStep(inputId, outputId) {\n",
              "  const inputElement = document.getElementById(inputId);\n",
              "  inputElement.disabled = false;\n",
              "\n",
              "  const outputElement = document.getElementById(outputId);\n",
              "  outputElement.innerHTML = '';\n",
              "\n",
              "  const pickedPromise = new Promise((resolve) => {\n",
              "    inputElement.addEventListener('change', (e) => {\n",
              "      resolve(e.target.files);\n",
              "    });\n",
              "  });\n",
              "\n",
              "  const cancel = document.createElement('button');\n",
              "  inputElement.parentElement.appendChild(cancel);\n",
              "  cancel.textContent = 'Cancel upload';\n",
              "  const cancelPromise = new Promise((resolve) => {\n",
              "    cancel.onclick = () => {\n",
              "      resolve(null);\n",
              "    };\n",
              "  });\n",
              "\n",
              "  // Wait for the user to pick the files.\n",
              "  const files = yield {\n",
              "    promise: Promise.race([pickedPromise, cancelPromise]),\n",
              "    response: {\n",
              "      action: 'starting',\n",
              "    }\n",
              "  };\n",
              "\n",
              "  cancel.remove();\n",
              "\n",
              "  // Disable the input element since further picks are not allowed.\n",
              "  inputElement.disabled = true;\n",
              "\n",
              "  if (!files) {\n",
              "    return {\n",
              "      response: {\n",
              "        action: 'complete',\n",
              "      }\n",
              "    };\n",
              "  }\n",
              "\n",
              "  for (const file of files) {\n",
              "    const li = document.createElement('li');\n",
              "    li.append(span(file.name, {fontWeight: 'bold'}));\n",
              "    li.append(span(\n",
              "        `(${file.type || 'n/a'}) - ${file.size} bytes, ` +\n",
              "        `last modified: ${\n",
              "            file.lastModifiedDate ? file.lastModifiedDate.toLocaleDateString() :\n",
              "                                    'n/a'} - `));\n",
              "    const percent = span('0% done');\n",
              "    li.appendChild(percent);\n",
              "\n",
              "    outputElement.appendChild(li);\n",
              "\n",
              "    const fileDataPromise = new Promise((resolve) => {\n",
              "      const reader = new FileReader();\n",
              "      reader.onload = (e) => {\n",
              "        resolve(e.target.result);\n",
              "      };\n",
              "      reader.readAsArrayBuffer(file);\n",
              "    });\n",
              "    // Wait for the data to be ready.\n",
              "    let fileData = yield {\n",
              "      promise: fileDataPromise,\n",
              "      response: {\n",
              "        action: 'continue',\n",
              "      }\n",
              "    };\n",
              "\n",
              "    // Use a chunked sending to avoid message size limits. See b/62115660.\n",
              "    let position = 0;\n",
              "    do {\n",
              "      const length = Math.min(fileData.byteLength - position, MAX_PAYLOAD_SIZE);\n",
              "      const chunk = new Uint8Array(fileData, position, length);\n",
              "      position += length;\n",
              "\n",
              "      const base64 = btoa(String.fromCharCode.apply(null, chunk));\n",
              "      yield {\n",
              "        response: {\n",
              "          action: 'append',\n",
              "          file: file.name,\n",
              "          data: base64,\n",
              "        },\n",
              "      };\n",
              "\n",
              "      let percentDone = fileData.byteLength === 0 ?\n",
              "          100 :\n",
              "          Math.round((position / fileData.byteLength) * 100);\n",
              "      percent.textContent = `${percentDone}% done`;\n",
              "\n",
              "    } while (position < fileData.byteLength);\n",
              "  }\n",
              "\n",
              "  // All done.\n",
              "  yield {\n",
              "    response: {\n",
              "      action: 'complete',\n",
              "    }\n",
              "  };\n",
              "}\n",
              "\n",
              "scope.google = scope.google || {};\n",
              "scope.google.colab = scope.google.colab || {};\n",
              "scope.google.colab._files = {\n",
              "  _uploadFiles,\n",
              "  _uploadFilesContinue,\n",
              "};\n",
              "})(self);\n",
              "</script> "
            ]
          },
          "metadata": {}
        },
        {
          "output_type": "stream",
          "name": "stdout",
          "text": [
            "Saving online_store_customer_data.csv to online_store_customer_data (6).csv\n"
          ]
        }
      ],
      "source": [
        "from google.colab import files\n",
        "uploaded = files.upload()"
      ]
    },
    {
      "cell_type": "code",
      "source": [
        "dt = pd.read_csv('online_store_customer_data.csv')\n",
        "dt.head()\n",
        "print(dt)"
      ],
      "metadata": {
        "colab": {
          "base_uri": "https://localhost:8080/"
        },
        "id": "AtRCT3swHafk",
        "outputId": "7f62dc0c-62fd-4c4a-82be-91c6b3c160d6"
      },
      "execution_count": 97,
      "outputs": [
        {
          "output_type": "stream",
          "name": "stdout",
          "text": [
            "     Transaction_date  Transaction_ID  Gender   Age Marital_status  \\\n",
            "0            1/1/2019          151200  Female  19.0         Single   \n",
            "1            1/1/2019          151201    Male  49.0         Single   \n",
            "2            1/1/2019          151202    Male  63.0        Married   \n",
            "3            1/1/2019          151203     NaN  18.0         Single   \n",
            "4            1/1/2019          151204    Male  27.0         Single   \n",
            "...               ...             ...     ...   ...            ...   \n",
            "2507         5/1/2021          153695  Female  57.0         Single   \n",
            "2508         5/1/2021          153696  Female  36.0        Married   \n",
            "2509         5/1/2021          153697    Male  22.0         Single   \n",
            "2510         5/1/2021          153698     NaN  44.0         Single   \n",
            "2511         5/1/2021          153699    Male  48.0         Single   \n",
            "\n",
            "         State_names   Segment Employees_status Payment_method  Referal  \\\n",
            "0             Kansas     Basic     Unemployment          Other      1.0   \n",
            "1           Illinois     Basic    self-employed           Card      0.0   \n",
            "2         New Mexico     Basic          workers         PayPal      1.0   \n",
            "3           Virginia  Platinum          workers           Card      1.0   \n",
            "4        Connecticut     Basic    self-employed           Card      0.0   \n",
            "...              ...       ...              ...            ...      ...   \n",
            "2507  South Carolina  Platinum    self-employed           Card      0.0   \n",
            "2508          Hawaii    Silver    self-employed         PayPal      1.0   \n",
            "2509  South Carolina     Basic          workers         PayPal      1.0   \n",
            "2510        New York     Basic        Employees         PayPal      0.0   \n",
            "2511      California    Silver          workers         PayPal      1.0   \n",
            "\n",
            "      Amount_spent  \n",
            "0          2051.36  \n",
            "1           544.04  \n",
            "2          1572.60  \n",
            "3          1199.79  \n",
            "4              NaN  \n",
            "...            ...  \n",
            "2507        150.10  \n",
            "2508        708.88  \n",
            "2509       2030.07  \n",
            "2510       1909.77  \n",
            "2511       1073.15  \n",
            "\n",
            "[2512 rows x 11 columns]\n"
          ]
        }
      ]
    },
    {
      "cell_type": "code",
      "source": [
        "dt.shape"
      ],
      "metadata": {
        "colab": {
          "base_uri": "https://localhost:8080/"
        },
        "id": "d1x0PIxFoJEV",
        "outputId": "702f2c05-c651-4f09-b54c-cea026a08187"
      },
      "execution_count": 98,
      "outputs": [
        {
          "output_type": "execute_result",
          "data": {
            "text/plain": [
              "(2512, 11)"
            ]
          },
          "metadata": {},
          "execution_count": 98
        }
      ]
    },
    {
      "cell_type": "markdown",
      "source": [
        "**Identify Missing Value in The Dataset​**"
      ],
      "metadata": {
        "id": "Ou_bW8Nlem_-"
      }
    },
    {
      "cell_type": "markdown",
      "source": [
        " **Calculate Missing Value​**"
      ],
      "metadata": {
        "id": "LVZrCDene_2f"
      }
    },
    {
      "cell_type": "code",
      "source": [
        "missing_counts = dt.isna().sum()\n",
        "print(missing_counts)"
      ],
      "metadata": {
        "colab": {
          "base_uri": "https://localhost:8080/"
        },
        "id": "hY21No4KHnk_",
        "outputId": "1b6fd6fc-447a-46b1-ef87-75aedbc486af"
      },
      "execution_count": 99,
      "outputs": [
        {
          "output_type": "stream",
          "name": "stdout",
          "text": [
            "Transaction_date      0\n",
            "Transaction_ID        0\n",
            "Gender               28\n",
            "Age                  42\n",
            "Marital_status        0\n",
            "State_names           0\n",
            "Segment               0\n",
            "Employees_status     26\n",
            "Payment_method        0\n",
            "Referal             155\n",
            "Amount_spent        242\n",
            "dtype: int64\n"
          ]
        }
      ]
    },
    {
      "cell_type": "code",
      "source": [
        "import seaborn as sns\n",
        "sns.heatmap(dt.isnull(), cbar=False)\n"
      ],
      "metadata": {
        "colab": {
          "base_uri": "https://localhost:8080/",
          "height": 565
        },
        "id": "3_nvM4i8Hp0v",
        "outputId": "40b40fb8-c2c2-4c35-f610-c10077d12e8a"
      },
      "execution_count": 100,
      "outputs": [
        {
          "output_type": "execute_result",
          "data": {
            "text/plain": [
              "<Axes: >"
            ]
          },
          "metadata": {},
          "execution_count": 100
        },
        {
          "output_type": "display_data",
          "data": {
            "text/plain": [
              "<Figure size 640x480 with 1 Axes>"
            ],
            "image/png": "[encoded data removed]"
          },
          "metadata": {}
        }
      ]
    },
    {
      "cell_type": "markdown",
      "source": [
        "**Remove or Exclude Missing Value​**"
      ],
      "metadata": {
        "id": "Sp5c4mMCfK2v"
      }
    },
    {
      "cell_type": "code",
      "source": [
        "dt2 = dt.dropna(subset=['Amount_spent'])"
      ],
      "metadata": {
        "id": "MfB0L80RH4kI"
      },
      "execution_count": 101,
      "outputs": []
    },
    {
      "cell_type": "code",
      "source": [
        "missing_counts = dt2.isna().sum()\n",
        "print(missing_counts)"
      ],
      "metadata": {
        "colab": {
          "base_uri": "https://localhost:8080/"
        },
        "id": "BP5R7sAOH5Wm",
        "outputId": "eb3a8eaa-1ca9-40fe-cdb5-068fdd61fa56"
      },
      "execution_count": 102,
      "outputs": [
        {
          "output_type": "stream",
          "name": "stdout",
          "text": [
            "Transaction_date      0\n",
            "Transaction_ID        0\n",
            "Gender               26\n",
            "Age                  39\n",
            "Marital_status        0\n",
            "State_names           0\n",
            "Segment               0\n",
            "Employees_status     25\n",
            "Payment_method        0\n",
            "Referal             142\n",
            "Amount_spent          0\n",
            "dtype: int64\n"
          ]
        }
      ]
    },
    {
      "cell_type": "code",
      "source": [
        "dt3 = dt.dropna()"
      ],
      "metadata": {
        "id": "qKX5NmYRH8Cl"
      },
      "execution_count": 103,
      "outputs": []
    },
    {
      "cell_type": "code",
      "source": [
        "missing_counts = dt3.isna().sum()\n",
        "print(missing_counts)"
      ],
      "metadata": {
        "colab": {
          "base_uri": "https://localhost:8080/"
        },
        "id": "EU-Zx7e7H_eN",
        "outputId": "631ce6c4-4fcd-4506-8f2f-371088ca9dfa"
      },
      "execution_count": 104,
      "outputs": [
        {
          "output_type": "stream",
          "name": "stdout",
          "text": [
            "Transaction_date    0\n",
            "Transaction_ID      0\n",
            "Gender              0\n",
            "Age                 0\n",
            "Marital_status      0\n",
            "State_names         0\n",
            "Segment             0\n",
            "Employees_status    0\n",
            "Payment_method      0\n",
            "Referal             0\n",
            "Amount_spent        0\n",
            "dtype: int64\n"
          ]
        }
      ]
    },
    {
      "cell_type": "code",
      "source": [
        "dt3.shape"
      ],
      "metadata": {
        "colab": {
          "base_uri": "https://localhost:8080/"
        },
        "id": "_G7SzUacH-Gg",
        "outputId": "af7b9232-2b58-46ca-9e2e-81f39653e9f9"
      },
      "execution_count": 105,
      "outputs": [
        {
          "output_type": "execute_result",
          "data": {
            "text/plain": [
              "(2044, 11)"
            ]
          },
          "metadata": {},
          "execution_count": 105
        }
      ]
    },
    {
      "cell_type": "code",
      "source": [
        "import matplotlib.pyplot as plt\n",
        "import seaborn as sns\n",
        "\n",
        "sns.histplot(dt['Age'], bins=50)\n",
        "plt.xlabel('Nilai')\n",
        "plt.ylabel('Frekuensi')\n",
        "plt.title('Histogram Sebaran Data Amount_spent')\n",
        "plt.show()"
      ],
      "metadata": {
        "colab": {
          "base_uri": "https://localhost:8080/",
          "height": 472
        },
        "id": "MpkDdyvRIEPU",
        "outputId": "b449e045-8c33-431d-d32d-5a3370366594"
      },
      "execution_count": 106,
      "outputs": [
        {
          "output_type": "display_data",
          "data": {
            "text/plain": [
              "<Figure size 640x480 with 1 Axes>"
            ],
            "image/png": "[encoded data removed]"
          },
          "metadata": {}
        }
      ]
    },
    {
      "cell_type": "code",
      "source": [
        "sns.histplot(dt['Amount_spent'], bins=50)\n",
        "plt.xlabel('Nilai')\n",
        "plt.ylabel('Frekuensi')\n",
        "plt.title('Histogram Sebaran Data Amount_spent')\n",
        "plt.show()"
      ],
      "metadata": {
        "colab": {
          "base_uri": "https://localhost:8080/",
          "height": 472
        },
        "id": "Nxk90CVBhhLj",
        "outputId": "14871458-42ba-463a-b447-6860f1b81e1b"
      },
      "execution_count": 107,
      "outputs": [
        {
          "output_type": "display_data",
          "data": {
            "text/plain": [
              "<Figure size 640x480 with 1 Axes>"
            ],
            "image/png": "[encoded data removed]"
          },
          "metadata": {}
        }
      ]
    },
    {
      "cell_type": "code",
      "source": [
        "import scipy.stats as stats\n",
        "import numpy as np\n",
        "\n",
        "# Uji Shapiro-Wilk (Uji Statistik Normalitas)\n",
        "statistic, p_value = stats.shapiro(dt['Amount_spent'])\n",
        "\n",
        "# Menampilkan hasil uji\n",
        "print(f\"Statistic: {statistic}\")\n",
        "print(f\"P-value: {p_value}\")\n",
        "\n",
        "# Menginterpretasikan hasil uji\n",
        "alpha = 0.05  # Tingkat signifikansi\n",
        "if p_value > alpha:\n",
        "    print(\"Tidak ada cukup bukti untuk menolak hipotesis nol (data terdistribusi normal)\")\n",
        "else:\n",
        "    print(\"Terdapat cukup bukti untuk menolak hipotesis nol (data tidak terdistribusi normal)\")"
      ],
      "metadata": {
        "colab": {
          "base_uri": "https://localhost:8080/"
        },
        "id": "ZlFnjsXOIGZK",
        "outputId": "b85b766e-c808-45cf-d2a0-009b59d13791"
      },
      "execution_count": 108,
      "outputs": [
        {
          "output_type": "stream",
          "name": "stdout",
          "text": [
            "Statistic: nan\n",
            "P-value: 1.0\n",
            "Tidak ada cukup bukti untuk menolak hipotesis nol (data terdistribusi normal)\n"
          ]
        }
      ]
    },
    {
      "cell_type": "code",
      "source": [
        "import scipy.stats as stats\n",
        "import numpy as np\n",
        "\n",
        "# Uji Shapiro-Wilk\n",
        "statistic, p_value = stats.shapiro(dt['Age'])\n",
        "\n",
        "# Menampilkan hasil uji\n",
        "print(f\"Statistic: {statistic}\")\n",
        "print(f\"P-value: {p_value}\")\n",
        "\n",
        "# Menginterpretasikan hasil uji\n",
        "alpha = 0.05  # Tingkat signifikansi\n",
        "if p_value > alpha:\n",
        "    print(\"Tidak ada cukup bukti untuk menolak hipotesis nol (data terdistribusi normal)\")\n",
        "else:\n",
        "    print(\"Terdapat cukup bukti untuk menolak hipotesis nol (data tidak terdistribusi normal)\")"
      ],
      "metadata": {
        "colab": {
          "base_uri": "https://localhost:8080/"
        },
        "id": "1SUgDfoHIVj6",
        "outputId": "e7733d4b-cdfa-4fea-f53b-a41c429b259b"
      },
      "execution_count": 109,
      "outputs": [
        {
          "output_type": "stream",
          "name": "stdout",
          "text": [
            "Statistic: nan\n",
            "P-value: 1.0\n",
            "Tidak ada cukup bukti untuk menolak hipotesis nol (data terdistribusi normal)\n"
          ]
        }
      ]
    },
    {
      "cell_type": "markdown",
      "source": [
        "**Recode and Imputate Missing Value​**"
      ],
      "metadata": {
        "id": "VR4w4_eCfZPL"
      }
    },
    {
      "cell_type": "markdown",
      "source": [
        "\n",
        "\n",
        "*   Mean\n",
        "\n",
        "\n"
      ],
      "metadata": {
        "id": "RJIQo2aEf0NA"
      }
    },
    {
      "cell_type": "code",
      "source": [
        "dt['Age'].fillna(dt['Age'].mean(), inplace=True)"
      ],
      "metadata": {
        "id": "iIWJJglwfc-K"
      },
      "execution_count": 110,
      "outputs": []
    },
    {
      "cell_type": "code",
      "source": [
        "mean_age = dt['Age'].mean()\n",
        "\n",
        "print(mean_age)"
      ],
      "metadata": {
        "colab": {
          "base_uri": "https://localhost:8080/"
        },
        "id": "ELvSMhELgE3B",
        "outputId": "e3c79458-2564-475a-f80d-979ea0abcac0"
      },
      "execution_count": 111,
      "outputs": [
        {
          "output_type": "stream",
          "name": "stdout",
          "text": [
            "46.63765182186235\n"
          ]
        }
      ]
    },
    {
      "cell_type": "code",
      "source": [
        "dt_agemean = dt['Age'].fillna(mean_age, inplace=True)\n",
        "print(dt_agemean)"
      ],
      "metadata": {
        "colab": {
          "base_uri": "https://localhost:8080/"
        },
        "id": "FC9eYQYEgF42",
        "outputId": "368c4701-c412-421d-9125-65af7054bdac"
      },
      "execution_count": 112,
      "outputs": [
        {
          "output_type": "stream",
          "name": "stdout",
          "text": [
            "None\n"
          ]
        }
      ]
    },
    {
      "cell_type": "markdown",
      "source": [
        "\n",
        "\n",
        "*   Median\n",
        "\n"
      ],
      "metadata": {
        "id": "F9pvU6cAgIXl"
      }
    },
    {
      "cell_type": "code",
      "source": [
        "median_amount_spend = dt['Amount_spent'].median()\n",
        "\n",
        "print(median_amount_spend)"
      ],
      "metadata": {
        "colab": {
          "base_uri": "https://localhost:8080/"
        },
        "id": "5JAvgNtEgK0B",
        "outputId": "aef8a9df-f13e-42ac-d717-a6500dec2ca4"
      },
      "execution_count": 113,
      "outputs": [
        {
          "output_type": "stream",
          "name": "stdout",
          "text": [
            "1341.435\n"
          ]
        }
      ]
    },
    {
      "cell_type": "code",
      "source": [
        "dt['Amount_spent'].fillna(median_amount_spend, inplace=True)"
      ],
      "metadata": {
        "id": "AzRhgv-4iXr5"
      },
      "execution_count": 114,
      "outputs": []
    },
    {
      "cell_type": "markdown",
      "source": [
        "\n",
        "\n",
        "*   Mode\n",
        "\n"
      ],
      "metadata": {
        "id": "N7bNooptgXZF"
      }
    },
    {
      "cell_type": "code",
      "source": [
        "dt['Employees_status'] = dt['Employees_status'].astype('category')\n",
        "mode_employees = dt['Employees_status'].mode()\n",
        "\n",
        "print(mode_employees)"
      ],
      "metadata": {
        "colab": {
          "base_uri": "https://localhost:8080/"
        },
        "id": "zbUZ4grGgN3Y",
        "outputId": "3ffae688-70f9-40ac-d952-f29a0b6065d0"
      },
      "execution_count": 115,
      "outputs": [
        {
          "output_type": "stream",
          "name": "stdout",
          "text": [
            "0    Employees\n",
            "Name: Employees_status, dtype: category\n",
            "Categories (4, object): ['Employees', 'Unemployment', 'self-employed', 'workers']\n"
          ]
        }
      ]
    },
    {
      "cell_type": "code",
      "source": [
        "dt['Employees_status'].fillna(mode_employees, inplace=True)"
      ],
      "metadata": {
        "id": "Z5IOaMYOgc6o"
      },
      "execution_count": 116,
      "outputs": []
    },
    {
      "cell_type": "code",
      "source": [
        "print(dt)"
      ],
      "metadata": {
        "colab": {
          "base_uri": "https://localhost:8080/"
        },
        "id": "_iVgebkNn6ei",
        "outputId": "091406da-e973-43d9-dd5b-152b964c2782"
      },
      "execution_count": 117,
      "outputs": [
        {
          "output_type": "stream",
          "name": "stdout",
          "text": [
            "     Transaction_date  Transaction_ID  Gender   Age Marital_status  \\\n",
            "0            1/1/2019          151200  Female  19.0         Single   \n",
            "1            1/1/2019          151201    Male  49.0         Single   \n",
            "2            1/1/2019          151202    Male  63.0        Married   \n",
            "3            1/1/2019          151203     NaN  18.0         Single   \n",
            "4            1/1/2019          151204    Male  27.0         Single   \n",
            "...               ...             ...     ...   ...            ...   \n",
            "2507         5/1/2021          153695  Female  57.0         Single   \n",
            "2508         5/1/2021          153696  Female  36.0        Married   \n",
            "2509         5/1/2021          153697    Male  22.0         Single   \n",
            "2510         5/1/2021          153698     NaN  44.0         Single   \n",
            "2511         5/1/2021          153699    Male  48.0         Single   \n",
            "\n",
            "         State_names   Segment Employees_status Payment_method  Referal  \\\n",
            "0             Kansas     Basic     Unemployment          Other      1.0   \n",
            "1           Illinois     Basic    self-employed           Card      0.0   \n",
            "2         New Mexico     Basic          workers         PayPal      1.0   \n",
            "3           Virginia  Platinum          workers           Card      1.0   \n",
            "4        Connecticut     Basic    self-employed           Card      0.0   \n",
            "...              ...       ...              ...            ...      ...   \n",
            "2507  South Carolina  Platinum    self-employed           Card      0.0   \n",
            "2508          Hawaii    Silver    self-employed         PayPal      1.0   \n",
            "2509  South Carolina     Basic          workers         PayPal      1.0   \n",
            "2510        New York     Basic        Employees         PayPal      0.0   \n",
            "2511      California    Silver          workers         PayPal      1.0   \n",
            "\n",
            "      Amount_spent  \n",
            "0         2051.360  \n",
            "1          544.040  \n",
            "2         1572.600  \n",
            "3         1199.790  \n",
            "4         1341.435  \n",
            "...            ...  \n",
            "2507       150.100  \n",
            "2508       708.880  \n",
            "2509      2030.070  \n",
            "2510      1909.770  \n",
            "2511      1073.150  \n",
            "\n",
            "[2512 rows x 11 columns]\n"
          ]
        }
      ]
    }
  ]
}