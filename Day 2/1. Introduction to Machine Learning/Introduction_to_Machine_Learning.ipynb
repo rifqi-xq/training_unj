{
  "nbformat": 4,
  "nbformat_minor": 0,
  "metadata": {
    "colab": {
      "provenance": []
    },
    "kernelspec": {
      "name": "python3",
      "display_name": "Python 3"
    },
    "language_info": {
      "name": "python"
    }
  },
  "cells": [
    {
      "cell_type": "markdown",
      "source": [
        "DATASET to UPLOAD: Headbrain1, 7282_1"
      ],
      "metadata": {
        "id": "EmRnn4b0PS8o"
      }
    },
    {
      "cell_type": "markdown",
      "source": [
        "#**Train-Test Split**"
      ],
      "metadata": {
        "id": "V_lI7_0M3xbH"
      }
    },
    {
      "cell_type": "code",
      "execution_count": null,
      "metadata": {
        "id": "GZ3lBLCv3cvl"
      },
      "outputs": [],
      "source": [
        "import numpy as np\n",
        "import pandas as pd\n",
        "from sklearn.model_selection import train_test_split\n",
        "\n",
        "# importing data\n",
        "df = pd.read_csv('headbrain1.csv')\n",
        "df.head()"
      ]
    },
    {
      "cell_type": "code",
      "source": [
        "# head of the data\n",
        "print(df.head())\n",
        "print(\"Main Data Size: \", len(df))\n",
        "print('')\n",
        "\n",
        "X= df['Head Size(cm^3)']\n",
        "y=df['Brain Weight(grams)']\n",
        "\n",
        "# using the train test split function\n",
        "X_train, X_test, y_train, y_test = train_test_split(X,y ,\n",
        "                                   random_state=104,\n",
        "                                   test_size=0.25,\n",
        "                                   shuffle=True)\n",
        "\n",
        "# printing out train and test sets\n",
        "\n",
        "print('X_train : ')\n",
        "print(X_train.head())\n",
        "print(X_train.size)\n",
        "print('')\n",
        "print('X_test : ')\n",
        "print(X_test.head())\n",
        "print(X_test.size)\n",
        "print('')\n",
        "print('y_train : ')\n",
        "print(y_train.head())\n",
        "print(y_train.size)\n",
        "print('')\n",
        "print('y_test : ')\n",
        "print(y_test.head())\n",
        "print(y_test.size)"
      ],
      "metadata": {
        "id": "l_elMt4H3is-"
      },
      "execution_count": null,
      "outputs": []
    },
    {
      "cell_type": "markdown",
      "source": [
        "#**Evaluation Method**"
      ],
      "metadata": {
        "id": "_P1VQaQp4Cls"
      }
    },
    {
      "cell_type": "markdown",
      "source": [
        "##**Simple Evaluation Metrics**"
      ],
      "metadata": {
        "id": "sqZhFvVeI1Cq"
      }
    },
    {
      "cell_type": "code",
      "source": [
        "import numpy as np\n",
        "\n",
        "real = [0,0,0,1,1,1,1,0,0,1,0,1,1,0,1]\n",
        "pred = [1,0,0,0,1,1,0,1,0,1,1,0,1,0,1]\n",
        "eval_test = pd.DataFrame({'real': real, 'pred': pred})"
      ],
      "metadata": {
        "id": "gD6dPF5O_tGy"
      },
      "execution_count": 81,
      "outputs": []
    },
    {
      "cell_type": "code",
      "source": [
        "def status_teller(input):\n",
        "  metrics = ''\n",
        "  if   input['real'] == 1 and input['pred'] == 1:\n",
        "    metrics = 'TP'\n",
        "  elif input['real'] == 0 and input['pred'] == 1:\n",
        "    metrics = 'FP'\n",
        "  elif input['real'] == 1 and input['pred'] == 0:\n",
        "    metrics = 'FN'\n",
        "  else:\n",
        "    metrics = 'TN'\n",
        "  return metrics\n",
        "\n",
        "eval_test['status'] = eval_test.apply(status_teller, axis = 1)"
      ],
      "metadata": {
        "id": "cRa2qEWaAUya"
      },
      "execution_count": 82,
      "outputs": []
    },
    {
      "cell_type": "code",
      "source": [
        "eval_test"
      ],
      "metadata": {
        "colab": {
          "base_uri": "https://localhost:8080/",
          "height": 519
        },
        "id": "o8y7IylPCjUI",
        "outputId": "a34705a0-2bfb-42f5-ff9a-2d32df2a65aa"
      },
      "execution_count": 83,
      "outputs": [
        {
          "output_type": "execute_result",
          "data": {
            "text/plain": [
              "    real  pred status\n",
              "0      0     1     FP\n",
              "1      0     0     TN\n",
              "2      0     0     TN\n",
              "3      1     0     FN\n",
              "4      1     1     TP\n",
              "5      1     1     TP\n",
              "6      1     0     FN\n",
              "7      0     1     FP\n",
              "8      0     0     TN\n",
              "9      1     1     TP\n",
              "10     0     1     FP\n",
              "11     1     0     FN\n",
              "12     1     1     TP\n",
              "13     0     0     TN\n",
              "14     1     1     TP"
            ],
            "text/html": [
              "\n",
              "  <div id=\"df-0a6ebb76-604c-4f57-b9ca-099672dc3397\" class=\"colab-df-container\">\n",
              "    <div>\n",
              "<style scoped>\n",
              "    .dataframe tbody tr th:only-of-type {\n",
              "        vertical-align: middle;\n",
              "    }\n",
              "\n",
              "    .dataframe tbody tr th {\n",
              "        vertical-align: top;\n",
              "    }\n",
              "\n",
              "    .dataframe thead th {\n",
              "        text-align: right;\n",
              "    }\n",
              "</style>\n",
              "<table border=\"1\" class=\"dataframe\">\n",
              "  <thead>\n",
              "    <tr style=\"text-align: right;\">\n",
              "      <th></th>\n",
              "      <th>real</th>\n",
              "      <th>pred</th>\n",
              "      <th>status</th>\n",
              "    </tr>\n",
              "  </thead>\n",
              "  <tbody>\n",
              "    <tr>\n",
              "      <th>0</th>\n",
              "      <td>0</td>\n",
              "      <td>1</td>\n",
              "      <td>FP</td>\n",
              "    </tr>\n",
              "    <tr>\n",
              "      <th>1</th>\n",
              "      <td>0</td>\n",
              "      <td>0</td>\n",
              "      <td>TN</td>\n",
              "    </tr>\n",
              "    <tr>\n",
              "      <th>2</th>\n",
              "      <td>0</td>\n",
              "      <td>0</td>\n",
              "      <td>TN</td>\n",
              "    </tr>\n",
              "    <tr>\n",
              "      <th>3</th>\n",
              "      <td>1</td>\n",
              "      <td>0</td>\n",
              "      <td>FN</td>\n",
              "    </tr>\n",
              "    <tr>\n",
              "      <th>4</th>\n",
              "      <td>1</td>\n",
              "      <td>1</td>\n",
              "      <td>TP</td>\n",
              "    </tr>\n",
              "    <tr>\n",
              "      <th>5</th>\n",
              "      <td>1</td>\n",
              "      <td>1</td>\n",
              "      <td>TP</td>\n",
              "    </tr>\n",
              "    <tr>\n",
              "      <th>6</th>\n",
              "      <td>1</td>\n",
              "      <td>0</td>\n",
              "      <td>FN</td>\n",
              "    </tr>\n",
              "    <tr>\n",
              "      <th>7</th>\n",
              "      <td>0</td>\n",
              "      <td>1</td>\n",
              "      <td>FP</td>\n",
              "    </tr>\n",
              "    <tr>\n",
              "      <th>8</th>\n",
              "      <td>0</td>\n",
              "      <td>0</td>\n",
              "      <td>TN</td>\n",
              "    </tr>\n",
              "    <tr>\n",
              "      <th>9</th>\n",
              "      <td>1</td>\n",
              "      <td>1</td>\n",
              "      <td>TP</td>\n",
              "    </tr>\n",
              "    <tr>\n",
              "      <th>10</th>\n",
              "      <td>0</td>\n",
              "      <td>1</td>\n",
              "      <td>FP</td>\n",
              "    </tr>\n",
              "    <tr>\n",
              "      <th>11</th>\n",
              "      <td>1</td>\n",
              "      <td>0</td>\n",
              "      <td>FN</td>\n",
              "    </tr>\n",
              "    <tr>\n",
              "      <th>12</th>\n",
              "      <td>1</td>\n",
              "      <td>1</td>\n",
              "      <td>TP</td>\n",
              "    </tr>\n",
              "    <tr>\n",
              "      <th>13</th>\n",
              "      <td>0</td>\n",
              "      <td>0</td>\n",
              "      <td>TN</td>\n",
              "    </tr>\n",
              "    <tr>\n",
              "      <th>14</th>\n",
              "      <td>1</td>\n",
              "      <td>1</td>\n",
              "      <td>TP</td>\n",
              "    </tr>\n",
              "  </tbody>\n",
              "</table>\n",
              "</div>\n",
              "    <div class=\"colab-df-buttons\">\n",
              "\n",
              "  <div class=\"colab-df-container\">\n",
              "    <button class=\"colab-df-convert\" onclick=\"convertToInteractive('df-0a6ebb76-604c-4f57-b9ca-099672dc3397')\"\n",
              "            title=\"Convert this dataframe to an interactive table.\"\n",
              "            style=\"display:none;\">\n",
              "\n",
              "  <svg xmlns=\"http://www.w3.org/2000/svg\" height=\"24px\" viewBox=\"0 -960 960 960\">\n",
              "    <path d=\"M120-120v-720h720v720H120Zm60-500h600v-160H180v160Zm220 220h160v-160H400v160Zm0 220h160v-160H400v160ZM180-400h160v-160H180v160Zm440 0h160v-160H620v160ZM180-180h160v-160H180v160Zm440 0h160v-160H620v160Z\"/>\n",
              "  </svg>\n",
              "    </button>\n",
              "\n",
              "  <style>\n",
              "    .colab-df-container {\n",
              "      display:flex;\n",
              "      gap: 12px;\n",
              "    }\n",
              "\n",
              "    .colab-df-convert {\n",
              "      background-color: #E8F0FE;\n",
              "      border: none;\n",
              "      border-radius: 50%;\n",
              "      cursor: pointer;\n",
              "      display: none;\n",
              "      fill: #1967D2;\n",
              "      height: 32px;\n",
              "      padding: 0 0 0 0;\n",
              "      width: 32px;\n",
              "    }\n",
              "\n",
              "    .colab-df-convert:hover {\n",
              "      background-color: #E2EBFA;\n",
              "      box-shadow: 0px 1px 2px rgba(60, 64, 67, 0.3), 0px 1px 3px 1px rgba(60, 64, 67, 0.15);\n",
              "      fill: #174EA6;\n",
              "    }\n",
              "\n",
              "    .colab-df-buttons div {\n",
              "      margin-bottom: 4px;\n",
              "    }\n",
              "\n",
              "    [theme=dark] .colab-df-convert {\n",
              "      background-color: #3B4455;\n",
              "      fill: #D2E3FC;\n",
              "    }\n",
              "\n",
              "    [theme=dark] .colab-df-convert:hover {\n",
              "      background-color: #434B5C;\n",
              "      box-shadow: 0px 1px 3px 1px rgba(0, 0, 0, 0.15);\n",
              "      filter: drop-shadow(0px 1px 2px rgba(0, 0, 0, 0.3));\n",
              "      fill: #FFFFFF;\n",
              "    }\n",
              "  </style>\n",
              "\n",
              "    <script>\n",
              "      const buttonEl =\n",
              "        document.querySelector('#df-0a6ebb76-604c-4f57-b9ca-099672dc3397 button.colab-df-convert');\n",
              "      buttonEl.style.display =\n",
              "        google.colab.kernel.accessAllowed ? 'block' : 'none';\n",
              "\n",
              "      async function convertToInteractive(key) {\n",
              "        const element = document.querySelector('#df-0a6ebb76-604c-4f57-b9ca-099672dc3397');\n",
              "        const dataTable =\n",
              "          await google.colab.kernel.invokeFunction('convertToInteractive',\n",
              "                                                    [key], {});\n",
              "        if (!dataTable) return;\n",
              "\n",
              "        const docLinkHtml = 'Like what you see? Visit the ' +\n",
              "          '<a target=\"_blank\" href=https://colab.research.google.com/notebooks/data_table.ipynb>data table notebook</a>'\n",
              "          + ' to learn more about interactive tables.';\n",
              "        element.innerHTML = '';\n",
              "        dataTable['output_type'] = 'display_data';\n",
              "        await google.colab.output.renderOutput(dataTable, element);\n",
              "        const docLink = document.createElement('div');\n",
              "        docLink.innerHTML = docLinkHtml;\n",
              "        element.appendChild(docLink);\n",
              "      }\n",
              "    </script>\n",
              "  </div>\n",
              "\n",
              "\n",
              "<div id=\"df-24783219-668a-4c12-88e6-6532a31d0790\">\n",
              "  <button class=\"colab-df-quickchart\" onclick=\"quickchart('df-24783219-668a-4c12-88e6-6532a31d0790')\"\n",
              "            title=\"Suggest charts.\"\n",
              "            style=\"display:none;\">\n",
              "\n",
              "<svg xmlns=\"http://www.w3.org/2000/svg\" height=\"24px\"viewBox=\"0 0 24 24\"\n",
              "     width=\"24px\">\n",
              "    <g>\n",
              "        <path d=\"M19 3H5c-1.1 0-2 .9-2 2v14c0 1.1.9 2 2 2h14c1.1 0 2-.9 2-2V5c0-1.1-.9-2-2-2zM9 17H7v-7h2v7zm4 0h-2V7h2v10zm4 0h-2v-4h2v4z\"/>\n",
              "    </g>\n",
              "</svg>\n",
              "  </button>\n",
              "\n",
              "<style>\n",
              "  .colab-df-quickchart {\n",
              "      --bg-color: #E8F0FE;\n",
              "      --fill-color: #1967D2;\n",
              "      --hover-bg-color: #E2EBFA;\n",
              "      --hover-fill-color: #174EA6;\n",
              "      --disabled-fill-color: #AAA;\n",
              "      --disabled-bg-color: #DDD;\n",
              "  }\n",
              "\n",
              "  [theme=dark] .colab-df-quickchart {\n",
              "      --bg-color: #3B4455;\n",
              "      --fill-color: #D2E3FC;\n",
              "      --hover-bg-color: #434B5C;\n",
              "      --hover-fill-color: #FFFFFF;\n",
              "      --disabled-bg-color: #3B4455;\n",
              "      --disabled-fill-color: #666;\n",
              "  }\n",
              "\n",
              "  .colab-df-quickchart {\n",
              "    background-color: var(--bg-color);\n",
              "    border: none;\n",
              "    border-radius: 50%;\n",
              "    cursor: pointer;\n",
              "    display: none;\n",
              "    fill: var(--fill-color);\n",
              "    height: 32px;\n",
              "    padding: 0;\n",
              "    width: 32px;\n",
              "  }\n",
              "\n",
              "  .colab-df-quickchart:hover {\n",
              "    background-color: var(--hover-bg-color);\n",
              "    box-shadow: 0 1px 2px rgba(60, 64, 67, 0.3), 0 1px 3px 1px rgba(60, 64, 67, 0.15);\n",
              "    fill: var(--button-hover-fill-color);\n",
              "  }\n",
              "\n",
              "  .colab-df-quickchart-complete:disabled,\n",
              "  .colab-df-quickchart-complete:disabled:hover {\n",
              "    background-color: var(--disabled-bg-color);\n",
              "    fill: var(--disabled-fill-color);\n",
              "    box-shadow: none;\n",
              "  }\n",
              "\n",
              "  .colab-df-spinner {\n",
              "    border: 2px solid var(--fill-color);\n",
              "    border-color: transparent;\n",
              "    border-bottom-color: var(--fill-color);\n",
              "    animation:\n",
              "      spin 1s steps(1) infinite;\n",
              "  }\n",
              "\n",
              "  @keyframes spin {\n",
              "    0% {\n",
              "      border-color: transparent;\n",
              "      border-bottom-color: var(--fill-color);\n",
              "      border-left-color: var(--fill-color);\n",
              "    }\n",
              "    20% {\n",
              "      border-color: transparent;\n",
              "      border-left-color: var(--fill-color);\n",
              "      border-top-color: var(--fill-color);\n",
              "    }\n",
              "    30% {\n",
              "      border-color: transparent;\n",
              "      border-left-color: var(--fill-color);\n",
              "      border-top-color: var(--fill-color);\n",
              "      border-right-color: var(--fill-color);\n",
              "    }\n",
              "    40% {\n",
              "      border-color: transparent;\n",
              "      border-right-color: var(--fill-color);\n",
              "      border-top-color: var(--fill-color);\n",
              "    }\n",
              "    60% {\n",
              "      border-color: transparent;\n",
              "      border-right-color: var(--fill-color);\n",
              "    }\n",
              "    80% {\n",
              "      border-color: transparent;\n",
              "      border-right-color: var(--fill-color);\n",
              "      border-bottom-color: var(--fill-color);\n",
              "    }\n",
              "    90% {\n",
              "      border-color: transparent;\n",
              "      border-bottom-color: var(--fill-color);\n",
              "    }\n",
              "  }\n",
              "</style>\n",
              "\n",
              "  <script>\n",
              "    async function quickchart(key) {\n",
              "      const quickchartButtonEl =\n",
              "        document.querySelector('#' + key + ' button');\n",
              "      quickchartButtonEl.disabled = true;  // To prevent multiple clicks.\n",
              "      quickchartButtonEl.classList.add('colab-df-spinner');\n",
              "      try {\n",
              "        const charts = await google.colab.kernel.invokeFunction(\n",
              "            'suggestCharts', [key], {});\n",
              "      } catch (error) {\n",
              "        console.error('Error during call to suggestCharts:', error);\n",
              "      }\n",
              "      quickchartButtonEl.classList.remove('colab-df-spinner');\n",
              "      quickchartButtonEl.classList.add('colab-df-quickchart-complete');\n",
              "    }\n",
              "    (() => {\n",
              "      let quickchartButtonEl =\n",
              "        document.querySelector('#df-24783219-668a-4c12-88e6-6532a31d0790 button');\n",
              "      quickchartButtonEl.style.display =\n",
              "        google.colab.kernel.accessAllowed ? 'block' : 'none';\n",
              "    })();\n",
              "  </script>\n",
              "</div>\n",
              "    </div>\n",
              "  </div>\n"
            ]
          },
          "metadata": {},
          "execution_count": 83
        }
      ]
    },
    {
      "cell_type": "code",
      "source": [
        "aggregate = eval_test[['real', 'pred']].groupby(['real'])\n",
        "aggregate_status = aggregate['pred'].count()\n",
        "\n",
        "agg = aggregate_status.reset_index"
      ],
      "metadata": {
        "id": "qXYKx6-9CneD"
      },
      "execution_count": 84,
      "outputs": []
    },
    {
      "cell_type": "code",
      "source": [
        "TP = eval_test[eval_test['status'] == 'TP']\n",
        "TP_val = len(TP)\n",
        "\n",
        "FP = eval_test[eval_test['status'] == 'FP']\n",
        "FP_val = len(FP)\n",
        "\n",
        "FN = eval_test[eval_test['status'] == 'FN']\n",
        "FN_val = len(FN)\n",
        "\n",
        "TN = eval_test[eval_test['status'] == 'TN']\n",
        "TN_val = len(TN)"
      ],
      "metadata": {
        "id": "TiFPVs89EnXu"
      },
      "execution_count": 85,
      "outputs": []
    },
    {
      "cell_type": "code",
      "source": [
        "print('TP = ', TP_val)\n",
        "print('FP = ', FP_val)\n",
        "print('FN = ', FN_val)\n",
        "print('TN = ', TN_val)"
      ],
      "metadata": {
        "colab": {
          "base_uri": "https://localhost:8080/"
        },
        "id": "jfUdx3oTGWRH",
        "outputId": "cc659b9e-2792-47de-f5b0-2d478ada1f82"
      },
      "execution_count": 86,
      "outputs": [
        {
          "output_type": "stream",
          "name": "stdout",
          "text": [
            "TP =  5\n",
            "FP =  3\n",
            "FN =  3\n",
            "TN =  4\n"
          ]
        }
      ]
    },
    {
      "cell_type": "code",
      "source": [
        "Accuracy = (TP_val + TN_val)/(TP_val + TN_val + FP_val + FN_val)\n",
        "Precision = TP_val/(TP_val+FP_val)\n",
        "Recall = TP_val/(TP_val+FN_val)\n",
        "\n",
        "print(\"Accuracy  = \", Accuracy*100,\"%\")\n",
        "print(\"Precision = \", Precision*100, \"%\")\n",
        "print(\"Recall    = \", Recall*100, \"%\")"
      ],
      "metadata": {
        "colab": {
          "base_uri": "https://localhost:8080/"
        },
        "id": "UHUGBDxkFSJj",
        "outputId": "dabc1461-67cc-4cf1-de3b-913946fe9fad"
      },
      "execution_count": 87,
      "outputs": [
        {
          "output_type": "stream",
          "name": "stdout",
          "text": [
            "Accuracy  =  60.0 %\n",
            "Precision =  62.5 %\n",
            "Recall    =  62.5 %\n"
          ]
        }
      ]
    },
    {
      "cell_type": "markdown",
      "source": [
        "##**AUROC**"
      ],
      "metadata": {
        "id": "K6R128Vz4GTV"
      }
    },
    {
      "cell_type": "code",
      "source": [
        "from sklearn.ensemble import RandomForestClassifier\n",
        "from sklearn.metrics import roc_curve, roc_auc_score\n",
        "from sklearn.datasets import load_iris\n",
        "from sklearn.multiclass import OneVsRestClassifier\n",
        "from sklearn.model_selection import train_test_split\n",
        "import matplotlib.pyplot as plt\n",
        "\n",
        "\n",
        "# Load the iris dataset\n",
        "iris = load_iris()\n",
        "\n",
        "# Split the dataset into training and test sets\n",
        "X_train, X_test, y_train, y_test = train_test_split(iris.data,\n",
        "                                                    iris.target,\n",
        "                                                    test_size=0.5,\n",
        "                                                    random_state=23)\n",
        "\n",
        "# Train a Random Forest classifier\n",
        "clf = OneVsRestClassifier(RandomForestClassifier())\n",
        "\n",
        "# fit model\n",
        "clf.fit(X_train, y_train)\n",
        "\n",
        "# Get predicted class probabilities for the test set\n",
        "y_pred_prob = clf.predict_proba(X_test)\n",
        "\n",
        "# Compute the ROC AUC score\n",
        "roc_auc = roc_auc_score(y_test, y_pred_prob, multi_class='ovr')\n",
        "print('ROC AUC Score :',roc_auc)\n",
        "\n",
        "# roc curve for Multi classes\n",
        "colors = ['orange','red','green']\n",
        "for i in range(len(iris.target_names)):\n",
        "    fpr, tpr, thresh = roc_curve(y_test, y_pred_prob[:,i], pos_label=i)\n",
        "    plt.plot(fpr, tpr, linestyle='--',color=colors[i], label=iris.target_names[i]+' vs Rest')\n",
        "# roc curve for tpr = fpr\n",
        "plt.plot([0, 1], [0, 1], 'k--', label='Random classifier')\n",
        "plt.title('Multiclass (Iris) ROC curve')\n",
        "plt.xlabel('False Positive Rate')\n",
        "plt.ylabel('True Positive rate')\n",
        "plt.legend()\n",
        "plt.show()"
      ],
      "metadata": {
        "id": "KHCAVSz83mOJ"
      },
      "execution_count": null,
      "outputs": []
    },
    {
      "cell_type": "markdown",
      "source": [
        "##**Root Mean Square Error (RMSE)**"
      ],
      "metadata": {
        "id": "svhdi0QN4ND5"
      }
    },
    {
      "cell_type": "code",
      "source": [
        "import math\n",
        "y_actual = [1,2,3,4,5]\n",
        "y_predicted = [1.6,2.5,2.9,3,4.1]\n",
        "\n",
        "MSE = np.square(np.subtract(y_actual,y_predicted)).mean()\n",
        "\n",
        "RMSE = math.sqrt(MSE)\n",
        "print(\"Root Mean Square Error:\\n\")\n",
        "print(RMSE)"
      ],
      "metadata": {
        "id": "K4ZRmpQL4LYQ"
      },
      "execution_count": null,
      "outputs": []
    },
    {
      "cell_type": "markdown",
      "source": [
        "#**Resampling Technique**"
      ],
      "metadata": {
        "id": "X5rJrNjp4csx"
      }
    },
    {
      "cell_type": "markdown",
      "source": [
        "##**K-Fold Cross Validation**"
      ],
      "metadata": {
        "id": "WjLlFMLL4seM"
      }
    },
    {
      "cell_type": "code",
      "source": [
        "from sklearn.linear_model import LogisticRegression\n",
        "from sklearn.svm import SVC\n",
        "from sklearn.ensemble import RandomForestClassifier\n",
        "import numpy as np\n",
        "from sklearn.datasets import load_digits\n",
        "import matplotlib.pyplot as plt\n",
        "digits = load_digits()\n",
        "from sklearn.model_selection import train_test_split\n",
        "X_train, X_test, y_train, y_test = train_test_split(digits.data,digits.target,test_size=0.3)"
      ],
      "metadata": {
        "id": "Uwv4Sxw94WK1"
      },
      "execution_count": null,
      "outputs": []
    },
    {
      "cell_type": "code",
      "source": [
        "rf = RandomForestClassifier(n_estimators=40)\n",
        "rf.fit(X_train, y_train)\n",
        "rf.score(X_test, y_test)"
      ],
      "metadata": {
        "id": "uB54aF5y40rk"
      },
      "execution_count": null,
      "outputs": []
    },
    {
      "cell_type": "code",
      "source": [
        "from sklearn.model_selection import cross_val_score\n",
        "score_rf=cross_val_score(RandomForestClassifier(n_estimators=40),digits.data, digits.target,cv=3)\n",
        "print(score_rf)\n",
        "print('Avg :',np.average(score_rf))"
      ],
      "metadata": {
        "id": "-eA5BXW641QN"
      },
      "execution_count": null,
      "outputs": []
    },
    {
      "cell_type": "code",
      "source": [
        "scores1 = cross_val_score(RandomForestClassifier(n_estimators=5),digits.data, digits.target, cv=10)\n",
        "print('Avg Score for Estimators=5 and CV=10 :',np.average(scores1))\n",
        "\n",
        "scores2 = cross_val_score(RandomForestClassifier(n_estimators=20),digits.data, digits.target, cv=10)\n",
        "print('Avg Score for Estimators=20 and CV=10 :',np.average(scores2))\n",
        "\n",
        "scores3 = cross_val_score(RandomForestClassifier(n_estimators=30),digits.data, digits.target, cv=10)\n",
        "print('Avg Score for Estimators=30 and CV=10 :',np.average(scores3))\n",
        "\n",
        "scores4 = cross_val_score(RandomForestClassifier(n_estimators=40),digits.data, digits.target, cv=10)\n",
        "print('Avg Score for Estimators=40 and CV=10 :',np.average(scores4))"
      ],
      "metadata": {
        "id": "3dG9QNPr43Lf"
      },
      "execution_count": null,
      "outputs": []
    },
    {
      "cell_type": "markdown",
      "source": [
        "##**Bootstrapping Technique**"
      ],
      "metadata": {
        "id": "N3e3uFz-c3gO"
      }
    },
    {
      "cell_type": "code",
      "source": [
        "import pandas as pd\n",
        "import numpy as np\n",
        "\n",
        "\n",
        "#moview reviews\n",
        "df = pd.read_csv('7282_1.csv')\n",
        "\n",
        "#sample\n",
        "s=df.sample(500,random_state=7)\n",
        "\n",
        "s.head()"
      ],
      "metadata": {
        "id": "qhr-f5Huc-yV"
      },
      "execution_count": null,
      "outputs": []
    },
    {
      "cell_type": "code",
      "source": [
        "s['reviews.rating'].hist()"
      ],
      "metadata": {
        "id": "jqYa2MfOeLfs"
      },
      "execution_count": null,
      "outputs": []
    },
    {
      "cell_type": "code",
      "source": [
        "s['reviews.rating'].describe()"
      ],
      "metadata": {
        "id": "bYwfkTZliAvF"
      },
      "execution_count": null,
      "outputs": []
    },
    {
      "cell_type": "code",
      "source": [
        "bootstrap = pd.DataFrame({'mean_rating':[s.sample(500,replace=True)['reviews.rating'].mean() for i in range(0,1000)]})\n",
        "\n",
        "bootstrap"
      ],
      "metadata": {
        "id": "nKoDeDQHehX9"
      },
      "execution_count": null,
      "outputs": []
    },
    {
      "cell_type": "code",
      "source": [
        "bootstrap['mean_rating'].hist()"
      ],
      "metadata": {
        "id": "ph8KX0d0eicE"
      },
      "execution_count": null,
      "outputs": []
    },
    {
      "cell_type": "code",
      "source": [
        "(bootstrap['mean_rating'].quantile(0.025),bootstrap['mean_rating'].quantile(0.975))"
      ],
      "metadata": {
        "id": "5Yf4PEihgIaS"
      },
      "execution_count": null,
      "outputs": []
    },
    {
      "cell_type": "code",
      "source": [
        "df['reviews.rating'].mean()"
      ],
      "metadata": {
        "id": "yCORsYHpicIW"
      },
      "execution_count": null,
      "outputs": []
    },
    {
      "cell_type": "markdown",
      "source": [
        "##**Undersampling and Oversampling Technique**"
      ],
      "metadata": {
        "id": "dFrb_SFS78xp"
      }
    },
    {
      "cell_type": "code",
      "source": [
        "# Creating the modeling dataset\n",
        "from sklearn.datasets import make_classification\n",
        "# Data processing\n",
        "import pandas as pd\n",
        "import numpy as np\n",
        "# Data visualization\n",
        "import matplotlib.pyplot as plt\n",
        "import seaborn as sns\n",
        "# Model and performance\n",
        "from sklearn.model_selection import train_test_split\n",
        "from sklearn.ensemble import RandomForestClassifier\n",
        "from sklearn.metrics import classification_report\n",
        "# Oversampling and under sampling\n",
        "from imblearn.over_sampling import RandomOverSampler, SMOTE\n",
        "from imblearn.under_sampling import RandomUnderSampler, NearMiss\n",
        "from collections import Counter"
      ],
      "metadata": {
        "id": "2i1siEZl8ADn"
      },
      "execution_count": 1,
      "outputs": []
    },
    {
      "cell_type": "code",
      "source": [
        "# Create an imbalanced dataset\n",
        "X, y = make_classification(n_samples=100000, n_features=2, n_informative=2, n_redundant=0, n_repeated=0, n_classes=2, n_clusters_per_class=1, weights=[0.995, 0.005], class_sep=0.5, random_state=0)\n",
        "# Convert the data from numpy array to a pandas dataframe\n",
        "df = pd.DataFrame({'feature1': X[:, 0], 'feature2': X[:, 1], 'target': y})\n",
        "# Check the target distribution\n",
        "df['target'].value_counts(normalize = True)"
      ],
      "metadata": {
        "colab": {
          "base_uri": "https://localhost:8080/"
        },
        "id": "BtpVAuvB8BHV",
        "outputId": "9a390758-e7da-457a-d226-f731b441c1f0"
      },
      "execution_count": 2,
      "outputs": [
        {
          "output_type": "execute_result",
          "data": {
            "text/plain": [
              "0    0.9897\n",
              "1    0.0103\n",
              "Name: target, dtype: float64"
            ]
          },
          "metadata": {},
          "execution_count": 2
        }
      ]
    },
    {
      "cell_type": "code",
      "source": [
        "# Visualize the data\n",
        "plt.figure(figsize=(12, 8))\n",
        "sns.scatterplot(x = 'feature1', y = 'feature2', hue = 'target', data = df)"
      ],
      "metadata": {
        "id": "YkZ6jieU8Gbn"
      },
      "execution_count": null,
      "outputs": []
    },
    {
      "cell_type": "code",
      "source": [
        "# Train test split\n",
        "X_train, X_test, y_train, y_test = train_test_split(X, y, test_size=0.2, random_state=42)\n",
        "# Check the number of records\n",
        "print('The number of records in the training dataset is', X_train.shape[0])\n",
        "print('The number of records in the test dataset is', X_test.shape[0])\n",
        "print(f\"The training dataset has {sorted(Counter(y_train).items())[0][1]} records for the majority class and {sorted(Counter(y_train).items())[1][1]} records for the minority class.\")"
      ],
      "metadata": {
        "id": "JLotpSjP8HBO"
      },
      "execution_count": null,
      "outputs": []
    },
    {
      "cell_type": "code",
      "source": [
        "# Train the random forest model\n",
        "rf = RandomForestClassifier()\n",
        "baseline_model = rf.fit(X_train, y_train)\n",
        "baseline_prediction = baseline_model.predict(X_test)\n",
        "# Check the model performance\n",
        "print(classification_report(y_test, baseline_prediction))"
      ],
      "metadata": {
        "id": "6koseUJr8pGI"
      },
      "execution_count": null,
      "outputs": []
    },
    {
      "cell_type": "markdown",
      "source": [
        "###Undersampling"
      ],
      "metadata": {
        "id": "JEGBY9my9TZl"
      }
    },
    {
      "cell_type": "markdown",
      "source": [
        "Random Undersampling"
      ],
      "metadata": {
        "id": "E1GK1oC_-loW"
      }
    },
    {
      "cell_type": "code",
      "source": [
        "# Randomly under sample the majority class\n",
        "rus = RandomUnderSampler(random_state=42)\n",
        "X_train_rus, y_train_rus= rus.fit_resample(X_train, y_train)\n",
        "# Check the number of records after under sampling\n",
        "print(sorted(Counter(y_train_rus).items()))"
      ],
      "metadata": {
        "id": "jtNU4y0p-nXx"
      },
      "execution_count": null,
      "outputs": []
    },
    {
      "cell_type": "code",
      "source": [
        "# Convert the data from numpy array to a pandas dataframe\n",
        "df_rus = pd.DataFrame({'feature1': X_train_rus[:, 0], 'feature2': X_train_rus[:, 1], 'target': y_train_rus})\n",
        "# Plot the chart\n",
        "plt.figure(figsize=(12, 8))\n",
        "sns.scatterplot(x = 'feature1', y = 'feature2', hue = 'target', data = df_rus)\n",
        "plt.title('Random Under Sampling')"
      ],
      "metadata": {
        "id": "OwB0-Cmw-wSe"
      },
      "execution_count": null,
      "outputs": []
    },
    {
      "cell_type": "code",
      "source": [
        "# Train the random forest model\n",
        "# rf = RandomForestClassifier()\n",
        "rus_model = rf.fit(X_train_rus, y_train_rus)\n",
        "rus_prediction = rus_model.predict(X_test)\n",
        "# Check the model performance\n",
        "print(classification_report(y_test, rus_prediction))"
      ],
      "metadata": {
        "id": "hViACmkV-zaj"
      },
      "execution_count": null,
      "outputs": []
    },
    {
      "cell_type": "markdown",
      "source": [
        "Near-Miss Undersampling"
      ],
      "metadata": {
        "id": "oarkihhK9bsC"
      }
    },
    {
      "cell_type": "code",
      "source": [
        "# Under sample the majority class\n",
        "nearmiss = NearMiss(version=3)\n",
        "X_train_nearmiss, y_train_nearmiss= nearmiss.fit_resample(X_train, y_train)\n",
        "# Check the number of records after over sampling\n",
        "print(sorted(Counter(y_train_nearmiss).items()))"
      ],
      "metadata": {
        "id": "gwG_ia5Y9VXB"
      },
      "execution_count": null,
      "outputs": []
    },
    {
      "cell_type": "code",
      "source": [
        "# Convert the data from numpy array to a pandas dataframe\n",
        "df_nearmiss = pd.DataFrame({'feature1': X_train_nearmiss[:, 0], 'feature2': X_train_nearmiss[:, 1], 'target': y_train_nearmiss})\n",
        "# Plot the chart\n",
        "plt.figure(figsize=(12, 8))\n",
        "sns.scatterplot(x = 'feature1', y = 'feature2', hue = 'target', data = df_nearmiss)\n",
        "plt.title('NearMiss Under Sampling')"
      ],
      "metadata": {
        "id": "XQvFFxWW9ghR"
      },
      "execution_count": null,
      "outputs": []
    },
    {
      "cell_type": "code",
      "source": [
        "# Train the random forest model\n",
        "# rf = RandomForestClassifier()\n",
        "nearmiss_model = rf.fit(X_train_nearmiss, y_train_nearmiss)\n",
        "nearmiss_prediction = nearmiss_model.predict(X_test)\n",
        "# Check the model performance\n",
        "print(classification_report(y_test, nearmiss_prediction))"
      ],
      "metadata": {
        "id": "zO9ZdQ0K9iUy"
      },
      "execution_count": null,
      "outputs": []
    },
    {
      "cell_type": "markdown",
      "source": [
        "###Oversampling"
      ],
      "metadata": {
        "id": "tRWQGD3H8eNb"
      }
    },
    {
      "cell_type": "markdown",
      "source": [
        "Random Oversampling"
      ],
      "metadata": {
        "id": "JVS1YnJo88Mt"
      }
    },
    {
      "cell_type": "code",
      "source": [
        "# Randomly over sample the minority class\n",
        "ros = RandomOverSampler(random_state=42)\n",
        "X_train_ros, y_train_ros= ros.fit_resample(X_train, y_train)\n",
        "# Check the number of records after over sampling\n",
        "print(sorted(Counter(y_train_ros).items()))"
      ],
      "metadata": {
        "id": "Us9wb0dq8gof"
      },
      "execution_count": null,
      "outputs": []
    },
    {
      "cell_type": "code",
      "source": [
        "# Convert the data from numpy array to a pandas dataframe\n",
        "df_ros = pd.DataFrame({'feature1': X_train_ros[:, 0], 'feature2': X_train_ros[:, 1], 'target': y_train_ros})\n",
        "# Plot the chart\n",
        "plt.figure(figsize=(12, 8))\n",
        "sns.scatterplot(x = 'feature1', y = 'feature2', hue = 'target', data = df_ros)\n",
        "plt.title('Random Over Sampling')"
      ],
      "metadata": {
        "id": "yG_kebko9L11"
      },
      "execution_count": null,
      "outputs": []
    },
    {
      "cell_type": "code",
      "source": [
        "# Train the random forest model\n",
        "# rf = RandomForestClassifier()\n",
        "ros_model = rf.fit(X_train_ros, y_train_ros)\n",
        "ros_prediction = ros_model.predict(X_test)\n",
        "# Check the model performance\n",
        "print(classification_report(y_test, ros_prediction))"
      ],
      "metadata": {
        "id": "jpBnm2FS8MDX"
      },
      "execution_count": null,
      "outputs": []
    },
    {
      "cell_type": "markdown",
      "source": [
        "SMOTE"
      ],
      "metadata": {
        "id": "6iMmBE1I9BN7"
      }
    },
    {
      "cell_type": "code",
      "source": [
        "# Randomly over sample the minority class\n",
        "smote = SMOTE(random_state=42)\n",
        "X_train_smote, y_train_smote= smote.fit_resample(X_train, y_train)\n",
        "# Check the number of records after over sampling\n",
        "print(sorted(Counter(y_train_smote).items()))"
      ],
      "metadata": {
        "id": "as0oIObe9DE0"
      },
      "execution_count": null,
      "outputs": []
    },
    {
      "cell_type": "code",
      "source": [
        "# Convert the data from numpy array to a pandas dataframe\n",
        "df_smote = pd.DataFrame({'feature1': X_train_smote[:, 0], 'feature2': X_train_smote[:, 1], 'target': y_train_smote})\n",
        "# Plot the chart\n",
        "plt.figure(figsize=(12, 8))\n",
        "sns.scatterplot(x = 'feature1', y = 'feature2', hue = 'target', data = df_smote)\n",
        "plt.title('SMOTE Over Sampling')"
      ],
      "metadata": {
        "id": "g_Em_IRK9FaL"
      },
      "execution_count": null,
      "outputs": []
    },
    {
      "cell_type": "code",
      "source": [
        "# Train the random forest model\n",
        "# rf = RandomForestClassifier()\n",
        "smote_model = rf.fit(X_train_smote, y_train_smote)\n",
        "smote_prediction = smote_model.predict(X_test)\n",
        "# Check the model performance\n",
        "print(classification_report(y_test, smote_prediction))"
      ],
      "metadata": {
        "id": "twoPjRlC9RuD"
      },
      "execution_count": null,
      "outputs": []
    }
  ]
}