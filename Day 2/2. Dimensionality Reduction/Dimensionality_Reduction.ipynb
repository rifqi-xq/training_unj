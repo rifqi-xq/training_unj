{
  "nbformat": 4,
  "nbformat_minor": 0,
  "metadata": {
    "colab": {
      "provenance": [],
      "toc_visible": true
    },
    "kernelspec": {
      "name": "python3",
      "display_name": "Python 3"
    },
    "language_info": {
      "name": "python"
    }
  },
  "cells": [
    {
      "cell_type": "markdown",
      "source": [
        "DATASET to UPLOAD: bfi"
      ],
      "metadata": {
        "id": "CWXTAoSqPFOz"
      }
    },
    {
      "cell_type": "markdown",
      "source": [
        "#**Exploratory Factor Analysis (EFA)**"
      ],
      "metadata": {
        "id": "DmeP_60GKh5-"
      }
    },
    {
      "cell_type": "code",
      "execution_count": null,
      "metadata": {
        "id": "RoLXqtybKZgk"
      },
      "outputs": [],
      "source": [
        "pip install factor_analyzer"
      ]
    },
    {
      "cell_type": "code",
      "source": [
        "import pandas as pd\n",
        "from sklearn.datasets import load_iris\n",
        "from factor_analyzer import FactorAnalyzer\n",
        "import matplotlib.pyplot as plt"
      ],
      "metadata": {
        "id": "b6L3UHn7KpnF"
      },
      "execution_count": null,
      "outputs": []
    },
    {
      "cell_type": "code",
      "source": [
        "df= pd.read_csv(\"bfi.csv\")\n",
        "df.columns"
      ],
      "metadata": {
        "id": "n-JB21KKKrV8"
      },
      "execution_count": null,
      "outputs": []
    },
    {
      "cell_type": "code",
      "source": [
        "df.drop(['rownames','gender', 'education', 'age'],axis=1,inplace=True)"
      ],
      "metadata": {
        "id": "N1hHpv4QKtXP"
      },
      "execution_count": null,
      "outputs": []
    },
    {
      "cell_type": "code",
      "source": [
        "df.dropna(inplace=True)"
      ],
      "metadata": {
        "id": "rxRK9pkaKu5K"
      },
      "execution_count": null,
      "outputs": []
    },
    {
      "cell_type": "code",
      "source": [
        "df.info()"
      ],
      "metadata": {
        "id": "ApLiZvsAKwOx"
      },
      "execution_count": null,
      "outputs": []
    },
    {
      "cell_type": "code",
      "source": [
        "df.head()"
      ],
      "metadata": {
        "id": "E7C98PAZKxg9"
      },
      "execution_count": null,
      "outputs": []
    },
    {
      "cell_type": "code",
      "source": [
        "from factor_analyzer.factor_analyzer import calculate_bartlett_sphericity\n",
        "\n",
        "chi_square_value, p_value = calculate_bartlett_sphericity(df)\n",
        "\n",
        "chi_square_value, p_value"
      ],
      "metadata": {
        "id": "l5XsJGtuRHLG"
      },
      "execution_count": null,
      "outputs": []
    },
    {
      "cell_type": "code",
      "source": [
        "from factor_analyzer.factor_analyzer import calculate_kmo\n",
        "\n",
        "kmo_all, kmo_model = calculate_kmo(df)\n",
        "\n",
        "kmo_model"
      ],
      "metadata": {
        "id": "UDbNL3VpRNnp"
      },
      "execution_count": null,
      "outputs": []
    },
    {
      "cell_type": "code",
      "source": [
        "# Create factor analysis object and perform factor analysis\n",
        "fa = FactorAnalyzer()\n",
        "fa.set_params(n_factors = 25, rotation = None)\n",
        "fa.fit(df)\n",
        "\n",
        "# Check Eigenvalues\n",
        "ev, v = fa.get_eigenvalues()\n",
        "ev"
      ],
      "metadata": {
        "id": "xNyv9wTkRxoW"
      },
      "execution_count": null,
      "outputs": []
    },
    {
      "cell_type": "code",
      "source": [
        "plt.scatter(range(1,df.shape[1]+1),ev)\n",
        "plt.plot(range(1,df.shape[1]+1),ev)\n",
        "plt.title('Scree Plot')\n",
        "plt.xlabel('Factors')\n",
        "plt.ylabel('Eigenvalue')\n",
        "plt.grid()\n",
        "plt.show()"
      ],
      "metadata": {
        "id": "0expxQvzUQuk"
      },
      "execution_count": null,
      "outputs": []
    },
    {
      "cell_type": "code",
      "source": [
        "fa = FactorAnalyzer()\n",
        "fa.set_params(n_factors = 6, rotation = \"varimax\")\n",
        "fa.fit(df)\n",
        "\n",
        "loadings = fa.loadings_\n",
        "print(pd.DataFrame(loadings, index = df.columns))"
      ],
      "metadata": {
        "id": "AZSKCXLGVDx-"
      },
      "execution_count": null,
      "outputs": []
    },
    {
      "cell_type": "code",
      "source": [
        "fa = FactorAnalyzer(n_factors = 5, rotation = \"varimax\")\n",
        "# fa.set_params(n_factors = 5, rotation = \"varimax\")\n",
        "fa.fit(df)\n",
        "\n",
        "loadings = fa.loadings_\n",
        "print(pd.DataFrame(loadings, index = df.columns))"
      ],
      "metadata": {
        "id": "uFl2ELG7YF6b"
      },
      "execution_count": null,
      "outputs": []
    },
    {
      "cell_type": "code",
      "source": [
        "print(pd.DataFrame(fa.get_factor_variance(),index=['Variance','Proportional Var','Cumulative Var']))\n"
      ],
      "metadata": {
        "id": "ZlJau5ycZEXA"
      },
      "execution_count": null,
      "outputs": []
    },
    {
      "cell_type": "code",
      "source": [
        "print(pd.DataFrame(fa.get_communalities(),index=df.columns,columns=['Communalities']))"
      ],
      "metadata": {
        "id": "KNR6GL3iiKo_"
      },
      "execution_count": null,
      "outputs": []
    },
    {
      "cell_type": "markdown",
      "source": [
        "#**Principal Component Analysis (PCA)**"
      ],
      "metadata": {
        "id": "YOJPaFQEiGkh"
      }
    },
    {
      "cell_type": "code",
      "source": [
        "from sklearn.datasets import load_breast_cancer\n",
        "import numpy as np\n",
        "import pandas as pd\n",
        "from sklearn.preprocessing import StandardScaler\n",
        "import matplotlib.pyplot as plt\n",
        "\n",
        "breast = load_breast_cancer()\n",
        "breast_data = breast.data\n",
        "breast_labels = breast.target\n",
        "\n",
        "print(\"breast_data count: \", breast_data.shape)\n",
        "print(\"breast_data labels: \", breast_labels.shape)\n",
        "\n",
        "labels = np.reshape(breast_labels,(569,1))\n",
        "final_breast_data = np.concatenate([breast_data,labels],axis=1)\n",
        "print(\"Final breast_data count: \", final_breast_data.shape)\n",
        "\n",
        "bdf = pd.DataFrame(final_breast_data)\n",
        "features = breast.feature_names\n",
        "features_labels = np.append(features,'label')\n",
        "bdf.columns = features_labels\n",
        "bdf['label'].replace(0, 'Benign',inplace=True)\n",
        "bdf['label'].replace(1, 'Malignant',inplace=True)\n",
        "bdf.tail()\n"
      ],
      "metadata": {
        "id": "tqNkf0JLyPTA"
      },
      "execution_count": null,
      "outputs": []
    },
    {
      "cell_type": "code",
      "source": [
        "x = bdf.loc[:, features].values\n",
        "x = StandardScaler().fit_transform(x) # normalizing the features\n",
        "x.shape"
      ],
      "metadata": {
        "id": "baFXypJq4J0h"
      },
      "execution_count": null,
      "outputs": []
    },
    {
      "cell_type": "code",
      "source": [
        "np.mean(x), np.std(x)"
      ],
      "metadata": {
        "id": "QQTaq2304UKq"
      },
      "execution_count": null,
      "outputs": []
    },
    {
      "cell_type": "code",
      "source": [
        "feat_cols = ['feature'+str(i) for i in range(x.shape[1])]\n",
        "nbdf = pd.DataFrame(x,columns=feat_cols)\n",
        "nbdf.tail()\n",
        "\n"
      ],
      "metadata": {
        "id": "jYdYV_Bx4ama"
      },
      "execution_count": null,
      "outputs": []
    },
    {
      "cell_type": "code",
      "source": [
        "from sklearn.decomposition import PCA\n"
      ],
      "metadata": {
        "id": "FozCwFP74ur8"
      },
      "execution_count": null,
      "outputs": []
    },
    {
      "cell_type": "code",
      "source": [
        "pca_breast = PCA(n_components=2)\n",
        "principalComponents_breast = pca_breast.fit_transform(x)"
      ],
      "metadata": {
        "id": "_mY0TNk8R9MV"
      },
      "execution_count": null,
      "outputs": []
    },
    {
      "cell_type": "code",
      "source": [
        "pbdf = pd.DataFrame(data = principalComponents_breast\n",
        "             , columns = ['principal component 1', 'principal component 2'])\n",
        "pbdf.tail()"
      ],
      "metadata": {
        "id": "-8fIt1D04yzC"
      },
      "execution_count": null,
      "outputs": []
    },
    {
      "cell_type": "code",
      "source": [
        "print('Explained variation per principal component: {}'.format(pca_breast.explained_variance_ratio_))\n"
      ],
      "metadata": {
        "colab": {
          "base_uri": "https://localhost:8080/"
        },
        "id": "EsMQ9lz15QGL",
        "outputId": "6bdeb846-0987-4a72-857e-d96fdd874e8a"
      },
      "execution_count": null,
      "outputs": [
        {
          "output_type": "stream",
          "name": "stdout",
          "text": [
            "Explained variation per principal component: [0.44272026 0.18971182]\n"
          ]
        }
      ]
    },
    {
      "cell_type": "code",
      "source": [
        "plt.figure()\n",
        "plt.figure(figsize=(10,10))\n",
        "plt.xticks(fontsize=12)\n",
        "plt.yticks(fontsize=14)\n",
        "plt.xlabel('Principal Component - 1',fontsize=20)\n",
        "plt.ylabel('Principal Component - 2',fontsize=20)\n",
        "plt.title(\"Principal Component Analysis of Breast Cancer Dataset\",fontsize=20)\n",
        "targets = ['Benign', 'Malignant']\n",
        "colors = ['r', 'b']\n",
        "for target, color in zip(targets,colors):\n",
        "    indicesToKeep = bdf['label'] == target\n",
        "    plt.scatter(pbdf.loc[indicesToKeep, 'principal component 1'], pbdf.loc[indicesToKeep, 'principal component 2'], c = color, s = 50)\n",
        "\n",
        "plt.legend(targets,prop={'size': 15})"
      ],
      "metadata": {
        "id": "AlIQ5dnu5czM"
      },
      "execution_count": null,
      "outputs": []
    },
    {
      "cell_type": "code",
      "source": [
        "pca = PCA().fit(x)\n",
        "\n",
        "plt.rcParams[\"figure.figsize\"] = (12,6)\n",
        "\n",
        "fig, ax = plt.subplots()\n",
        "xi = np.arange(0, 30, step=1)\n",
        "y = np.cumsum(pca.explained_variance_ratio_)\n",
        "\n",
        "plt.ylim(0.0,1.1)\n",
        "plt.plot(xi, y, marker='o', linestyle='--', color='b')\n",
        "\n",
        "plt.xlabel('Number of Components')\n",
        "plt.xticks(np.arange(0, 11, step=1)) #change from 0-based array index to 1-based human-readable label\n",
        "plt.ylabel('Cumulative variance (%)')\n",
        "plt.title('The number of components needed to explain variance')\n",
        "\n",
        "plt.axhline(y=0.95, color='r', linestyle='-')\n",
        "plt.text(0.5, 0.85, '95% cut-off threshold', color = 'red', fontsize=16)\n",
        "\n",
        "ax.grid(axis='x')\n",
        "plt.show()"
      ],
      "metadata": {
        "id": "LMpVHIVwSArc"
      },
      "execution_count": null,
      "outputs": []
    },
    {
      "cell_type": "code",
      "source": [
        "pca_breast = PCA(n_components=10)\n",
        "principalComponents_breast = pca_breast.fit_transform(x)"
      ],
      "metadata": {
        "id": "9C-82XNbTnjU"
      },
      "execution_count": null,
      "outputs": []
    },
    {
      "cell_type": "code",
      "source": [
        "name_of_column = [['pc'+str(i) for i in range(10)]]"
      ],
      "metadata": {
        "id": "Xg_NgaudTyfh"
      },
      "execution_count": null,
      "outputs": []
    },
    {
      "cell_type": "code",
      "source": [
        "pbdf = pd.DataFrame(data = principalComponents_breast\n",
        "             , columns = name_of_column)\n",
        "pbdf.tail()"
      ],
      "metadata": {
        "id": "m2lxzoVmTuy-"
      },
      "execution_count": null,
      "outputs": []
    },
    {
      "cell_type": "code",
      "source": [
        "print('Explained variation per principal component: {}'.format(pca_breast.explained_variance_ratio_))\n"
      ],
      "metadata": {
        "id": "Ci72fAlcUUhl"
      },
      "execution_count": null,
      "outputs": []
    }
  ]
}